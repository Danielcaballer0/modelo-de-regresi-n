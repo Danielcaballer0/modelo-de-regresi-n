{
 "cells": [
  {
   "cell_type": "code",
   "execution_count": null,
   "id": "123e50bc-6bc7-4267-adfa-71ed54295b97",
   "metadata": {},
   "outputs": [],
   "source": [
    "import pandas as pd\n",
    "import numpy as np\n",
    "import matplotlib.pyplot as plt\n",
    "import seaborn as sns\n",
    "from sklearn.model_selection import train_test_split\n",
    "from sklearn.linear_model import LinearRegression\n",
    "from sklearn.metrics import mean_absolute_error, mean_squared_error, r2_score\n",
    "import pickle\n",
    "import ipywidgets as widgets\n",
    "from IPython.display import display\n",
    "\n"
   ]
  },
  {
   "cell_type": "code",
   "execution_count": null,
   "id": "a9bbec69-98ae-4ef8-b8d3-c42175f6a834",
   "metadata": {},
   "outputs": [],
   "source": [
    "# Cargar los datos\n",
    "df = pd.read_csv(\"house_data/Bengaluru_House_Data.csv\")"
   ]
  },
  {
   "cell_type": "code",
   "execution_count": null,
   "id": "4e9ccf1a-0ab5-4155-a1b7-1da6a6eab8d0",
   "metadata": {},
   "outputs": [],
   "source": [
    "# Preprocesamiento básico\n",
    "df = df[['location', 'size', 'total_sqft', 'bath', 'balcony', 'price']]\n",
    "df.dropna(inplace=True)\n",
    "df['bhk'] = df['size'].apply(lambda x: int(x.split(' ')[0]))\n",
    "df.drop(columns=['size'], inplace=True)"
   ]
  },
  {
   "cell_type": "code",
   "execution_count": null,
   "id": "c16e7f28-a451-45a7-a7bc-cb0d1ac5721e",
   "metadata": {},
   "outputs": [],
   "source": [
    "# Convertir total_sqft en número\n",
    "def convert_sqft_to_num(x):\n",
    "    try:\n",
    "        return float(x)\n",
    "    except:\n",
    "        tokens = x.split('-')\n",
    "        if len(tokens) == 2:\n",
    "            return (float(tokens[0]) + float(tokens[1])) / 2\n",
    "        return None\n",
    "\n",
    "df['total_sqft'] = df['total_sqft'].apply(convert_sqft_to_num)\n",
    "df.dropna(inplace=True)\n"
   ]
  },
  {
   "cell_type": "code",
   "execution_count": null,
   "id": "7ac9a17c-b2cc-4711-ad75-1b1991d3b325",
   "metadata": {},
   "outputs": [],
   "source": [
    "# Codificación de variables categóricas\n",
    "df = pd.get_dummies(df, columns=['location'], drop_first=True)"
   ]
  },
  {
   "cell_type": "code",
   "execution_count": null,
   "id": "d70a55ee-af03-4e0c-93fc-c3b83a1adab5",
   "metadata": {},
   "outputs": [],
   "source": [
    "# Separar variables predictoras y objetivo\n",
    "X = df.drop(columns=['price'])\n",
    "y = df['price']"
   ]
  },
  {
   "cell_type": "code",
   "execution_count": null,
   "id": "31ee70bd-49d5-446d-85ce-4da9e7dabe02",
   "metadata": {},
   "outputs": [],
   "source": [
    "# Dividir en conjunto de entrenamiento y prueba\n",
    "X_train, X_test, y_train, y_test = train_test_split(X, y, test_size=0.2, random_state=42)\n"
   ]
  },
  {
   "cell_type": "code",
   "execution_count": null,
   "id": "4b76cee2-ea34-4d2d-8977-ca903a76c544",
   "metadata": {},
   "outputs": [],
   "source": [
    "# Entrenar el modelo\n",
    "model = LinearRegression()\n",
    "model.fit(X_train, y_train)\n",
    "\n",
    "# Evaluación del modelo\n",
    "y_pred = model.predict(X_test)\n",
    "mae = mean_absolute_error(y_test, y_pred)\n",
    "mse = mean_squared_error(y_test, y_pred)\n",
    "rmse = np.sqrt(mse)\n",
    "r2 = r2_score(y_test, y_pred)\n",
    "\n",
    "print(f'MAE: {mae}')\n",
    "print(f'MSE: {mse}')\n",
    "print(f'RMSE: {rmse}')\n",
    "print(f'R2 Score: {r2}')\n",
    "\n",
    "# Guardar el modelo\n",
    "with open(\"house_price_model.pkl\", \"wb\") as file:\n",
    "    pickle.dump(model, file)\n"
   ]
  },
  {
   "cell_type": "code",
   "execution_count": null,
   "id": "166aefb9-792f-4f8a-9fca-8dcac507afca",
   "metadata": {},
   "outputs": [],
   "source": [
    "# Visualización\n",
    "def plot_evaluation(y_test, y_pred):\n",
    "    plt.figure(figsize=(12,5))\n",
    "    plt.subplot(1,2,1)\n",
    "    sns.scatterplot(x=y_test, y=y_pred, alpha=0.5)\n",
    "    plt.xlabel(\"Actual Prices\")\n",
    "    plt.ylabel(\"Predicted Prices\")\n",
    "    plt.title(\"Actual vs Predicted Prices\")\n",
    "\n",
    "    plt.subplot(1,2,2)\n",
    "    residuals = y_test - y_pred\n",
    "    sns.histplot(residuals, bins=50, kde=True)\n",
    "    plt.xlabel(\"Residuals\")\n",
    "    plt.title(\"Residuals Distribution\")\n",
    "    plt.show()\n",
    "\n",
    "plot_evaluation(y_test, y_pred)\n"
   ]
  },
  {
   "cell_type": "code",
   "execution_count": null,
   "id": "b5dc2ed1-c1bf-499d-8a39-c20398c0d812",
   "metadata": {},
   "outputs": [],
   "source": [
    "import pickle\n",
    "import numpy as np\n",
    "import pandas as pd\n",
    "import ipywidgets as widgets\n",
    "from IPython.display import display\n",
    "\n",
    "# Cargar el modelo entrenado\n",
    "try:\n",
    "    with open(\"house_price_model.pkl\", \"rb\") as file:\n",
    "        model = pickle.load(file)\n",
    "    with open(\"columns.pkl\", \"rb\") as file:\n",
    "        columns = pickle.load(file)\n",
    "except Exception as e:\n",
    "    print(\"Error al cargar el modelo:\", e)\n",
    "    model, columns = None, []\n",
    "\n",
    "# Crear widgets de entrada para el usuario\n",
    "sqft_input = widgets.IntText(value=1000, description=\"Total Sqft:\")\n",
    "bath_input = widgets.IntText(value=2, description=\"Baños:\")\n",
    "balcony_input = widgets.IntText(value=1, description=\"Balcones:\")\n",
    "bhk_input = widgets.IntText(value=2, description=\"BHK:\")\n",
    "location_input = widgets.Dropdown(\n",
    "    options=[col.replace(\"location_\", \"\") for col in columns if \"location_\" in col],\n",
    "    description=\"Ubicación:\")\n",
    "\n",
    "# Botón para predecir\n",
    "button = widgets.Button(description=\"Predecir Precio\")\n",
    "output = widgets.Output()\n",
    "\n",
    "def predict_price(change):\n",
    "    with output:\n",
    "        output.clear_output()\n",
    "        try:\n",
    "            # Crear un array de entrada con valores en el orden correcto\n",
    "            data = np.zeros(len(columns))\n",
    "            data[columns.index(\"total_sqft\")] = sqft_input.value\n",
    "            data[columns.index(\"bath\")] = bath_input.value\n",
    "            data[columns.index(\"balcony\")] = balcony_input.value\n",
    "            data[columns.index(\"bhk\")] = bhk_input.value\n",
    "            location_col = f\"location_{location_input.value}\"\n",
    "            if location_col in columns:\n",
    "                data[columns.index(location_col)] = 1\n",
    "            \n",
    "            # Realizar la predicción\n",
    "            prediction = model.predict([data])[0]\n",
    "            print(f\"Precio estimado: {prediction:.2f} Lakhs\")\n",
    "        except Exception as e:\n",
    "            print(\"Error en la predicción:\", e)\n",
    "\n",
    "button.on_click(predict_price)\n",
    "\n",
    "# Mostrar la interfaz\n",
    "display(sqft_input, bath_input, balcony_input, bhk_input, location_input, button, output)\n"
   ]
  },
  {
   "cell_type": "code",
   "execution_count": null,
   "id": "a453df9c-8655-4c5c-b24a-8f2d23fa9bdd",
   "metadata": {},
   "outputs": [],
   "source": [
    "\n",
    "\n",
    "\n"
   ]
  },
  {
   "cell_type": "code",
   "execution_count": null,
   "id": "1c79c34e-0d2a-4d3e-8b6e-6b5b59529dee",
   "metadata": {},
   "outputs": [],
   "source": []
  }
 ],
 "metadata": {
  "kernelspec": {
   "display_name": "Python (voila_env)",
   "language": "python",
   "name": "voila_env"
  },
  "language_info": {
   "codemirror_mode": {
    "name": "ipython",
    "version": 3
   },
   "file_extension": ".py",
   "mimetype": "text/x-python",
   "name": "python",
   "nbconvert_exporter": "python",
   "pygments_lexer": "ipython3",
   "version": "3.11.2"
  }
 },
 "nbformat": 4,
 "nbformat_minor": 5
}
